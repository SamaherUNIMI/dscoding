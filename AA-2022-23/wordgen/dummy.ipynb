{
 "cells": [
  {
   "cell_type": "markdown",
   "id": "1ff9674a",
   "metadata": {},
   "source": [
    "# Dummy word generator with estimated probability distribution over the alphabet\n",
    "- corpus\n",
    "- count char frequency\n",
    "- index"
   ]
  },
  {
   "cell_type": "code",
   "execution_count": 1,
   "id": "cd8b1d7c",
   "metadata": {},
   "outputs": [],
   "source": [
    "import pandas as pd\n",
    "import numpy as np\n",
    "from tqdm.notebook import tqdm"
   ]
  },
  {
   "cell_type": "code",
   "execution_count": 2,
   "id": "505f38de",
   "metadata": {},
   "outputs": [],
   "source": [
    "import string\n",
    "from models import DummyWordGenerator"
   ]
  },
  {
   "cell_type": "code",
   "execution_count": 3,
   "id": "21433463",
   "metadata": {},
   "outputs": [],
   "source": [
    "dummy_gen = DummyWordGenerator(alphabet=string.ascii_lowercase, special_chars=\" .\")"
   ]
  },
  {
   "cell_type": "code",
   "execution_count": 4,
   "id": "da6645c6",
   "metadata": {},
   "outputs": [],
   "source": [
    "vowels = {'a', 'e', 'i', 'o', 'u'}\n",
    "p = [5 if x in vowels else 1 for x in string.ascii_lowercase + \" .\"]\n",
    "p_gen = DummyWordGenerator(\n",
    "    alphabet=string.ascii_lowercase, \n",
    "    special_chars=\" .\", p=p)"
   ]
  },
  {
   "cell_type": "code",
   "execution_count": 5,
   "id": "3d529b67",
   "metadata": {},
   "outputs": [
    {
     "data": {
      "text/plain": [
       "['e', 'e', 'y', 'r', 'u']"
      ]
     },
     "execution_count": 5,
     "metadata": {},
     "output_type": "execute_result"
    }
   ],
   "source": [
    "p_gen.generate[:5]"
   ]
  },
  {
   "cell_type": "markdown",
   "id": "b2796ad9",
   "metadata": {},
   "source": [
    "## Massive generation of words"
   ]
  },
  {
   "cell_type": "code",
   "execution_count": 6,
   "id": "667bc18a",
   "metadata": {},
   "outputs": [],
   "source": [
    "size = 1000\n",
    "dummy_list = [x for x in dummy_gen.words(size)]\n",
    "p_list = [x for x in p_gen.words(size)]"
   ]
  },
  {
   "cell_type": "code",
   "execution_count": 7,
   "id": "8125f844",
   "metadata": {},
   "outputs": [
    {
     "data": {
      "text/plain": [
       "['vexvudbgeyqektyvxadirx',\n",
       " 'axosf',\n",
       " 'muxldlxvjvucghn',\n",
       " 'tvumsaezdeqbwzztx',\n",
       " 'gzyajtyjslcgabpgmgaelpqj']"
      ]
     },
     "execution_count": 7,
     "metadata": {},
     "output_type": "execute_result"
    }
   ],
   "source": [
    "dummy_list[:5]"
   ]
  },
  {
   "cell_type": "code",
   "execution_count": 8,
   "id": "a2fa9cbe",
   "metadata": {},
   "outputs": [
    {
     "data": {
      "text/plain": [
       "['udugieiejofii',\n",
       " 'eaauewkedjktoeheeiuneqraylv',\n",
       " 'ho',\n",
       " 'rbnogbsiqomayadcpiusiartpeopercazqdio',\n",
       " 'oneluzufzudoyuaou']"
      ]
     },
     "execution_count": 8,
     "metadata": {},
     "output_type": "execute_result"
    }
   ],
   "source": [
    "p_list[:5]"
   ]
  },
  {
   "cell_type": "markdown",
   "id": "14d43e85",
   "metadata": {},
   "source": [
    "**Q1 how can we evaluate the quality of the generator?**"
   ]
  },
  {
   "cell_type": "code",
   "execution_count": 9,
   "id": "f0b9f0e4",
   "metadata": {},
   "outputs": [],
   "source": [
    "from index import WordIndex"
   ]
  },
  {
   "cell_type": "code",
   "execution_count": 10,
   "id": "7cd02b3a",
   "metadata": {},
   "outputs": [],
   "source": [
    "local_file = '/Users/flint/Data/daily-dialogue/EMNLP_dataset/dialogues_text.txt'\n",
    "with open(local_file, 'r') as infile:\n",
    "    raw = infile.read()\n",
    "sentences = [x.strip() for x in raw.split('__eou__')]"
   ]
  },
  {
   "cell_type": "code",
   "execution_count": 11,
   "id": "d3db3233",
   "metadata": {},
   "outputs": [],
   "source": [
    "W = WordIndex(sentences)"
   ]
  },
  {
   "cell_type": "code",
   "execution_count": 12,
   "id": "ea9e212a",
   "metadata": {},
   "outputs": [],
   "source": [
    "correct_dummy = [w for w in dummy_list if len(w) > 1 and w in W.index]\n",
    "correct_p = [w for w in p_list if len(w) > 1 and w in W.index]"
   ]
  },
  {
   "cell_type": "code",
   "execution_count": 13,
   "id": "56dcd1a0",
   "metadata": {},
   "outputs": [
    {
     "data": {
      "text/plain": [
       "(0.006, 0.007)"
      ]
     },
     "execution_count": 13,
     "metadata": {},
     "output_type": "execute_result"
    }
   ],
   "source": [
    "len(correct_dummy) / len(dummy_list), len(correct_p) / len(p_list)"
   ]
  },
  {
   "cell_type": "code",
   "execution_count": 14,
   "id": "da8e8f85",
   "metadata": {},
   "outputs": [
    {
     "data": {
      "text/plain": [
       "['mo', 'by', 'th', 'mg', 'pa']"
      ]
     },
     "execution_count": 14,
     "metadata": {},
     "output_type": "execute_result"
    }
   ],
   "source": [
    "correct_dummy[:5]"
   ]
  },
  {
   "cell_type": "markdown",
   "id": "fba42021",
   "metadata": {},
   "source": [
    "**Q2 how to compute p is a more reliable way?**"
   ]
  },
  {
   "cell_type": "code",
   "execution_count": 15,
   "id": "dc0bb27b",
   "metadata": {},
   "outputs": [],
   "source": [
    "from collections import defaultdict"
   ]
  },
  {
   "cell_type": "markdown",
   "id": "fe978918",
   "metadata": {},
   "source": [
    "$p(c) = \\frac{count(c)}{\\sum\\limits_{i \\in W} count(c_i)}$"
   ]
  },
  {
   "cell_type": "code",
   "execution_count": 16,
   "id": "cf7b99da",
   "metadata": {},
   "outputs": [],
   "source": [
    "from index import UnigramIndex, WordIndex"
   ]
  },
  {
   "cell_type": "code",
   "execution_count": 17,
   "id": "61539357",
   "metadata": {},
   "outputs": [],
   "source": [
    "U = UnigramIndex.from_word_index(W, lower_case=True)\n",
    "p_corpus = [U[c] for c in string.ascii_lowercase + \" .\"]"
   ]
  },
  {
   "cell_type": "code",
   "execution_count": 18,
   "id": "f601fe9c",
   "metadata": {},
   "outputs": [],
   "source": [
    "corpus_gen = DummyWordGenerator(\n",
    "    alphabet=string.ascii_lowercase, special_chars=\" .\", p=p_corpus)"
   ]
  },
  {
   "cell_type": "code",
   "execution_count": 19,
   "id": "65863e1f",
   "metadata": {},
   "outputs": [],
   "source": [
    "corpus_list = [x for x in corpus_gen.words(size)]"
   ]
  },
  {
   "cell_type": "code",
   "execution_count": 20,
   "id": "70327a52",
   "metadata": {},
   "outputs": [],
   "source": [
    "correct_p = [w for w in corpus_list if len(w) > 1 and w in W.index]"
   ]
  },
  {
   "cell_type": "code",
   "execution_count": 21,
   "id": "02cf7d01",
   "metadata": {},
   "outputs": [
    {
     "data": {
      "text/plain": [
       "0.055"
      ]
     },
     "execution_count": 21,
     "metadata": {},
     "output_type": "execute_result"
    }
   ],
   "source": [
    "len(correct_p) / len(corpus_list)"
   ]
  },
  {
   "cell_type": "code",
   "execution_count": 22,
   "id": "accf59b4",
   "metadata": {},
   "outputs": [
    {
     "data": {
      "text/plain": [
       "['ou', 'ai', 'tee', 'ai', 'pi']"
      ]
     },
     "execution_count": 22,
     "metadata": {},
     "output_type": "execute_result"
    }
   ],
   "source": [
    "correct_p[:5]"
   ]
  },
  {
   "cell_type": "markdown",
   "id": "cbd2401c",
   "metadata": {},
   "source": [
    "**Q3 how can we take into account the sequence of chars in real words?**\n",
    "\n",
    "$p(c) = \\frac{count(c)}{\\sum\\limits_{i \\in A}count(c_i)}$\n",
    "\n",
    "$$\n",
    "p(c_i \\mid c_1, c_2, \\dots, c_{i-1}) = \\frac{count(c_1, c_2, \\dots, c_{i-1}, c_i)}{count(c_1, c_2, \\dots, c_{i-1})}\n",
    "$$\n",
    "\n",
    "$$\n",
    "p(c_i \\mid c_{i-k}, \\dots, c_{i-1}) = \\frac{count(c_{i-k}, \\dots, c_{i-1}, c_i)}{count(c_{i-k}, \\dots, c_{i-1})}\n",
    "$$"
   ]
  },
  {
   "cell_type": "markdown",
   "id": "59ad4fec",
   "metadata": {},
   "source": [
    "### N-Gram indexing"
   ]
  },
  {
   "cell_type": "code",
   "execution_count": 23,
   "id": "c11680dc",
   "metadata": {},
   "outputs": [],
   "source": [
    "from index import BiGramIndex"
   ]
  },
  {
   "cell_type": "code",
   "execution_count": 24,
   "id": "847b363e",
   "metadata": {},
   "outputs": [],
   "source": [
    "b = BiGramIndex.from_word_index(W)"
   ]
  },
  {
   "cell_type": "code",
   "execution_count": 25,
   "id": "0681cec5",
   "metadata": {},
   "outputs": [
    {
     "data": {
      "text/plain": [
       "(8926, 342007)"
      ]
     },
     "execution_count": 25,
     "metadata": {},
     "output_type": "execute_result"
    }
   ],
   "source": [
    "# Usage\n",
    "b[('a', 'b')], b.frequency('a')"
   ]
  },
  {
   "cell_type": "code",
   "execution_count": 26,
   "id": "31968cd2",
   "metadata": {},
   "outputs": [
    {
     "data": {
      "text/plain": [
       "342007"
      ]
     },
     "execution_count": 26,
     "metadata": {},
     "output_type": "execute_result"
    }
   ],
   "source": [
    "sum(b.index['a'].values())"
   ]
  },
  {
   "cell_type": "code",
   "execution_count": 27,
   "id": "54a7c069",
   "metadata": {},
   "outputs": [
    {
     "data": {
      "text/plain": [
       "0.026098881017055205"
      ]
     },
     "execution_count": 27,
     "metadata": {},
     "output_type": "execute_result"
    }
   ],
   "source": [
    "b[('a', 'b')] / b.frequency('a')"
   ]
  },
  {
   "cell_type": "code",
   "execution_count": 28,
   "id": "cb3f4910",
   "metadata": {},
   "outputs": [],
   "source": [
    "import numpy as np"
   ]
  },
  {
   "cell_type": "code",
   "execution_count": 29,
   "id": "16bcb5f7",
   "metadata": {},
   "outputs": [],
   "source": [
    "alphabet, special = list(string.ascii_lowercase + \" .\"), [' ', '.']"
   ]
  },
  {
   "cell_type": "code",
   "execution_count": 30,
   "id": "4dd87afa",
   "metadata": {},
   "outputs": [],
   "source": [
    "def conditional(alphabet, previous, bindex):\n",
    "    p = []\n",
    "    for c in alphabet:\n",
    "        p.append(bindex[(previous, c)])\n",
    "    p = np.array(p)\n",
    "    return p / p.sum()"
   ]
  },
  {
   "cell_type": "code",
   "execution_count": 31,
   "id": "3d58f481",
   "metadata": {},
   "outputs": [
    {
     "data": {
      "text/plain": [
       "array([3.51032181e-05, 2.61109437e-02, 3.05105471e-02, 2.84862615e-02,\n",
       "       2.63274136e-04, 9.10635983e-03, 1.57730460e-02, 5.16894886e-03,\n",
       "       2.86237491e-02, 6.93288557e-04, 2.44289145e-02, 8.04507253e-02,\n",
       "       2.65175560e-02, 1.80913210e-01, 3.83210131e-04, 1.49919994e-02,\n",
       "       2.34021454e-05, 9.93538083e-02, 6.64591676e-02, 1.49525083e-01,\n",
       "       8.80213194e-03, 4.96973810e-02, 4.32647163e-03, 1.73468403e-03,\n",
       "       5.00893669e-02, 1.58257008e-03, 9.58493370e-02, 9.94591179e-05])"
      ]
     },
     "execution_count": 31,
     "metadata": {},
     "output_type": "execute_result"
    }
   ],
   "source": [
    "conditional(alphabet, 'a', b)"
   ]
  },
  {
   "cell_type": "code",
   "execution_count": 32,
   "id": "c48ee524",
   "metadata": {},
   "outputs": [
    {
     "data": {
      "text/plain": [
       "32766"
      ]
     },
     "execution_count": 32,
     "metadata": {},
     "output_type": "execute_result"
    }
   ],
   "source": [
    "b[('a', ' ')]"
   ]
  },
  {
   "cell_type": "code",
   "execution_count": 40,
   "id": "262699ff",
   "metadata": {},
   "outputs": [
    {
     "name": "stdout",
     "output_type": "stream",
     "text": [
      "hangoman\n"
     ]
    }
   ],
   "source": [
    "word = []\n",
    "previous = None\n",
    "while True:\n",
    "    if previous is None:\n",
    "        c = np.random.choice(alphabet)\n",
    "    else:\n",
    "        c = np.random.choice(alphabet, p=conditional(\n",
    "            alphabet=alphabet, previous=previous, bindex=b\n",
    "        ))\n",
    "    if c in special:\n",
    "        break\n",
    "    word.append(c)\n",
    "    previous = c\n",
    "print(\"\".join(word))"
   ]
  },
  {
   "cell_type": "code",
   "execution_count": 34,
   "id": "a39742b7",
   "metadata": {},
   "outputs": [
    {
     "data": {
      "text/plain": [
       "'e'"
      ]
     },
     "execution_count": 34,
     "metadata": {},
     "output_type": "execute_result"
    }
   ],
   "source": [
    "previous"
   ]
  },
  {
   "cell_type": "markdown",
   "id": "a7f8488e",
   "metadata": {},
   "source": [
    "### Other options for bidimensional (sparse) index"
   ]
  },
  {
   "cell_type": "markdown",
   "id": "1236d042",
   "metadata": {},
   "source": [
    "#### Numpy matrix"
   ]
  },
  {
   "cell_type": "code",
   "execution_count": 43,
   "id": "7f397aea",
   "metadata": {},
   "outputs": [],
   "source": [
    "m = np.zeros((len(alphabet), len(alphabet)))\n",
    "for c, following in b.index.items():\n",
    "    if c in alphabet:\n",
    "        i = alphabet.index(c)\n",
    "        for k, value in following.items():\n",
    "            if k in alphabet:\n",
    "                j = alphabet.index(k)\n",
    "                m[i, j] = value        "
   ]
  },
  {
   "cell_type": "code",
   "execution_count": 45,
   "id": "8314f209",
   "metadata": {},
   "outputs": [
    {
     "data": {
      "text/plain": [
       "array([2.316440e+05, 2.143100e+04, 5.938200e+04, 1.080270e+05,\n",
       "       4.907410e+05, 3.932200e+04, 6.814400e+04, 1.506530e+05,\n",
       "       2.040500e+05, 1.589000e+03, 5.056800e+04, 1.571050e+05,\n",
       "       6.069700e+04, 2.430080e+05, 3.274480e+05, 4.227400e+04,\n",
       "       8.790000e+02, 2.192240e+05, 1.722720e+05, 2.453510e+05,\n",
       "       1.525850e+05, 3.953500e+04, 3.169100e+04, 7.016000e+03,\n",
       "       8.412600e+04, 2.231000e+03, 1.251469e+06, 7.210000e+03])"
      ]
     },
     "execution_count": 45,
     "metadata": {},
     "output_type": "execute_result"
    }
   ],
   "source": [
    "m.sum(axis=0)"
   ]
  },
  {
   "cell_type": "markdown",
   "id": "bb2532f1",
   "metadata": {},
   "source": [
    "#### Pandas DataFrame"
   ]
  },
  {
   "cell_type": "code",
   "execution_count": 48,
   "id": "de30c617",
   "metadata": {},
   "outputs": [],
   "source": [
    "df = pd.DataFrame(b.index).fillna(0)"
   ]
  },
  {
   "cell_type": "code",
   "execution_count": 49,
   "id": "6d2153e5",
   "metadata": {},
   "outputs": [
    {
     "data": {
      "text/html": [
       "<div>\n",
       "<style scoped>\n",
       "    .dataframe tbody tr th:only-of-type {\n",
       "        vertical-align: middle;\n",
       "    }\n",
       "\n",
       "    .dataframe tbody tr th {\n",
       "        vertical-align: top;\n",
       "    }\n",
       "\n",
       "    .dataframe thead th {\n",
       "        text-align: right;\n",
       "    }\n",
       "</style>\n",
       "<table border=\"1\" class=\"dataframe\">\n",
       "  <thead>\n",
       "    <tr style=\"text-align: right;\">\n",
       "      <th></th>\n",
       "      <th>T</th>\n",
       "      <th>h</th>\n",
       "      <th>e</th>\n",
       "      <th>k</th>\n",
       "      <th>i</th>\n",
       "      <th>t</th>\n",
       "      <th>c</th>\n",
       "      <th>n</th>\n",
       "      <th>s</th>\n",
       "      <th>.</th>\n",
       "      <th>...</th>\n",
       "      <th>“</th>\n",
       "      <th>”</th>\n",
       "      <th>*</th>\n",
       "      <th></th>\n",
       "      <th>@</th>\n",
       "      <th>_</th>\n",
       "      <th>\\</th>\n",
       "      <th>、</th>\n",
       "      <th>+</th>\n",
       "      <th>#</th>\n",
       "    </tr>\n",
       "  </thead>\n",
       "  <tbody>\n",
       "    <tr>\n",
       "      <th>h</th>\n",
       "      <td>16574.0</td>\n",
       "      <td>40.0</td>\n",
       "      <td>354.0</td>\n",
       "      <td>34.0</td>\n",
       "      <td>11.0</td>\n",
       "      <td>96882.0</td>\n",
       "      <td>16326.0</td>\n",
       "      <td>63.0</td>\n",
       "      <td>11168.0</td>\n",
       "      <td>9.0</td>\n",
       "      <td>...</td>\n",
       "      <td>0.0</td>\n",
       "      <td>0.0</td>\n",
       "      <td>0.0</td>\n",
       "      <td>0.0</td>\n",
       "      <td>0.0</td>\n",
       "      <td>0.0</td>\n",
       "      <td>0.0</td>\n",
       "      <td>0.0</td>\n",
       "      <td>0.0</td>\n",
       "      <td>0.0</td>\n",
       "    </tr>\n",
       "    <tr>\n",
       "      <th>e</th>\n",
       "      <td>404.0</td>\n",
       "      <td>82514.0</td>\n",
       "      <td>20975.0</td>\n",
       "      <td>18981.0</td>\n",
       "      <td>8909.0</td>\n",
       "      <td>30113.0</td>\n",
       "      <td>14441.0</td>\n",
       "      <td>25614.0</td>\n",
       "      <td>29357.0</td>\n",
       "      <td>1.0</td>\n",
       "      <td>...</td>\n",
       "      <td>0.0</td>\n",
       "      <td>0.0</td>\n",
       "      <td>0.0</td>\n",
       "      <td>0.0</td>\n",
       "      <td>0.0</td>\n",
       "      <td>0.0</td>\n",
       "      <td>0.0</td>\n",
       "      <td>0.0</td>\n",
       "      <td>0.0</td>\n",
       "      <td>0.0</td>\n",
       "    </tr>\n",
       "    <tr>\n",
       "      <th>a</th>\n",
       "      <td>557.0</td>\n",
       "      <td>56243.0</td>\n",
       "      <td>32635.0</td>\n",
       "      <td>928.0</td>\n",
       "      <td>3313.0</td>\n",
       "      <td>14500.0</td>\n",
       "      <td>19556.0</td>\n",
       "      <td>5695.0</td>\n",
       "      <td>6042.0</td>\n",
       "      <td>8.0</td>\n",
       "      <td>...</td>\n",
       "      <td>0.0</td>\n",
       "      <td>0.0</td>\n",
       "      <td>0.0</td>\n",
       "      <td>0.0</td>\n",
       "      <td>0.0</td>\n",
       "      <td>2.0</td>\n",
       "      <td>0.0</td>\n",
       "      <td>0.0</td>\n",
       "      <td>0.0</td>\n",
       "      <td>0.0</td>\n",
       "    </tr>\n",
       "    <tr>\n",
       "      <th>o</th>\n",
       "      <td>846.0</td>\n",
       "      <td>18044.0</td>\n",
       "      <td>2480.0</td>\n",
       "      <td>89.0</td>\n",
       "      <td>9865.0</td>\n",
       "      <td>45838.0</td>\n",
       "      <td>19970.0</td>\n",
       "      <td>16608.0</td>\n",
       "      <td>17122.0</td>\n",
       "      <td>10.0</td>\n",
       "      <td>...</td>\n",
       "      <td>0.0</td>\n",
       "      <td>0.0</td>\n",
       "      <td>0.0</td>\n",
       "      <td>0.0</td>\n",
       "      <td>0.0</td>\n",
       "      <td>0.0</td>\n",
       "      <td>0.0</td>\n",
       "      <td>0.0</td>\n",
       "      <td>0.0</td>\n",
       "      <td>0.0</td>\n",
       "    </tr>\n",
       "    <tr>\n",
       "      <th>u</th>\n",
       "      <td>182.0</td>\n",
       "      <td>1516.0</td>\n",
       "      <td>169.0</td>\n",
       "      <td>22.0</td>\n",
       "      <td>229.0</td>\n",
       "      <td>4984.0</td>\n",
       "      <td>3292.0</td>\n",
       "      <td>2372.0</td>\n",
       "      <td>7401.0</td>\n",
       "      <td>0.0</td>\n",
       "      <td>...</td>\n",
       "      <td>0.0</td>\n",
       "      <td>0.0</td>\n",
       "      <td>0.0</td>\n",
       "      <td>0.0</td>\n",
       "      <td>0.0</td>\n",
       "      <td>0.0</td>\n",
       "      <td>0.0</td>\n",
       "      <td>0.0</td>\n",
       "      <td>0.0</td>\n",
       "      <td>0.0</td>\n",
       "    </tr>\n",
       "    <tr>\n",
       "      <th>...</th>\n",
       "      <td>...</td>\n",
       "      <td>...</td>\n",
       "      <td>...</td>\n",
       "      <td>...</td>\n",
       "      <td>...</td>\n",
       "      <td>...</td>\n",
       "      <td>...</td>\n",
       "      <td>...</td>\n",
       "      <td>...</td>\n",
       "      <td>...</td>\n",
       "      <td>...</td>\n",
       "      <td>...</td>\n",
       "      <td>...</td>\n",
       "      <td>...</td>\n",
       "      <td>...</td>\n",
       "      <td>...</td>\n",
       "      <td>...</td>\n",
       "      <td>...</td>\n",
       "      <td>...</td>\n",
       "      <td>...</td>\n",
       "      <td>...</td>\n",
       "    </tr>\n",
       "    <tr>\n",
       "      <th>X</th>\n",
       "      <td>0.0</td>\n",
       "      <td>0.0</td>\n",
       "      <td>0.0</td>\n",
       "      <td>0.0</td>\n",
       "      <td>0.0</td>\n",
       "      <td>0.0</td>\n",
       "      <td>0.0</td>\n",
       "      <td>0.0</td>\n",
       "      <td>0.0</td>\n",
       "      <td>0.0</td>\n",
       "      <td>...</td>\n",
       "      <td>0.0</td>\n",
       "      <td>0.0</td>\n",
       "      <td>0.0</td>\n",
       "      <td>0.0</td>\n",
       "      <td>0.0</td>\n",
       "      <td>0.0</td>\n",
       "      <td>0.0</td>\n",
       "      <td>0.0</td>\n",
       "      <td>0.0</td>\n",
       "      <td>0.0</td>\n",
       "    </tr>\n",
       "    <tr>\n",
       "      <th>:</th>\n",
       "      <td>0.0</td>\n",
       "      <td>0.0</td>\n",
       "      <td>0.0</td>\n",
       "      <td>0.0</td>\n",
       "      <td>0.0</td>\n",
       "      <td>0.0</td>\n",
       "      <td>0.0</td>\n",
       "      <td>0.0</td>\n",
       "      <td>0.0</td>\n",
       "      <td>0.0</td>\n",
       "      <td>...</td>\n",
       "      <td>0.0</td>\n",
       "      <td>0.0</td>\n",
       "      <td>0.0</td>\n",
       "      <td>0.0</td>\n",
       "      <td>0.0</td>\n",
       "      <td>0.0</td>\n",
       "      <td>0.0</td>\n",
       "      <td>0.0</td>\n",
       "      <td>0.0</td>\n",
       "      <td>0.0</td>\n",
       "    </tr>\n",
       "    <tr>\n",
       "      <th>,</th>\n",
       "      <td>0.0</td>\n",
       "      <td>0.0</td>\n",
       "      <td>0.0</td>\n",
       "      <td>0.0</td>\n",
       "      <td>0.0</td>\n",
       "      <td>0.0</td>\n",
       "      <td>0.0</td>\n",
       "      <td>0.0</td>\n",
       "      <td>0.0</td>\n",
       "      <td>0.0</td>\n",
       "      <td>...</td>\n",
       "      <td>0.0</td>\n",
       "      <td>0.0</td>\n",
       "      <td>0.0</td>\n",
       "      <td>0.0</td>\n",
       "      <td>0.0</td>\n",
       "      <td>0.0</td>\n",
       "      <td>0.0</td>\n",
       "      <td>0.0</td>\n",
       "      <td>0.0</td>\n",
       "      <td>0.0</td>\n",
       "    </tr>\n",
       "    <tr>\n",
       "      <th>/</th>\n",
       "      <td>0.0</td>\n",
       "      <td>0.0</td>\n",
       "      <td>0.0</td>\n",
       "      <td>0.0</td>\n",
       "      <td>0.0</td>\n",
       "      <td>0.0</td>\n",
       "      <td>0.0</td>\n",
       "      <td>0.0</td>\n",
       "      <td>0.0</td>\n",
       "      <td>0.0</td>\n",
       "      <td>...</td>\n",
       "      <td>0.0</td>\n",
       "      <td>0.0</td>\n",
       "      <td>0.0</td>\n",
       "      <td>0.0</td>\n",
       "      <td>0.0</td>\n",
       "      <td>0.0</td>\n",
       "      <td>0.0</td>\n",
       "      <td>0.0</td>\n",
       "      <td>0.0</td>\n",
       "      <td>0.0</td>\n",
       "    </tr>\n",
       "    <tr>\n",
       "      <th>`</th>\n",
       "      <td>0.0</td>\n",
       "      <td>0.0</td>\n",
       "      <td>0.0</td>\n",
       "      <td>0.0</td>\n",
       "      <td>0.0</td>\n",
       "      <td>0.0</td>\n",
       "      <td>0.0</td>\n",
       "      <td>0.0</td>\n",
       "      <td>0.0</td>\n",
       "      <td>0.0</td>\n",
       "      <td>...</td>\n",
       "      <td>0.0</td>\n",
       "      <td>0.0</td>\n",
       "      <td>0.0</td>\n",
       "      <td>0.0</td>\n",
       "      <td>0.0</td>\n",
       "      <td>0.0</td>\n",
       "      <td>0.0</td>\n",
       "      <td>0.0</td>\n",
       "      <td>0.0</td>\n",
       "      <td>0.0</td>\n",
       "    </tr>\n",
       "  </tbody>\n",
       "</table>\n",
       "<p>71 rows × 98 columns</p>\n",
       "</div>"
      ],
      "text/plain": [
       "          T        h        e        k       i        t        c        n  \\\n",
       "h   16574.0     40.0    354.0     34.0    11.0  96882.0  16326.0     63.0   \n",
       "e     404.0  82514.0  20975.0  18981.0  8909.0  30113.0  14441.0  25614.0   \n",
       "a     557.0  56243.0  32635.0    928.0  3313.0  14500.0  19556.0   5695.0   \n",
       "o     846.0  18044.0   2480.0     89.0  9865.0  45838.0  19970.0  16608.0   \n",
       "u     182.0   1516.0    169.0     22.0   229.0   4984.0   3292.0   2372.0   \n",
       "..      ...      ...      ...      ...     ...      ...      ...      ...   \n",
       "X       0.0      0.0      0.0      0.0     0.0      0.0      0.0      0.0   \n",
       ":       0.0      0.0      0.0      0.0     0.0      0.0      0.0      0.0   \n",
       ",       0.0      0.0      0.0      0.0     0.0      0.0      0.0      0.0   \n",
       "/       0.0      0.0      0.0      0.0     0.0      0.0      0.0      0.0   \n",
       "`       0.0      0.0      0.0      0.0     0.0      0.0      0.0      0.0   \n",
       "\n",
       "          s     .  ...    “    ”    *        @    _    \\    、    +    #  \n",
       "h   11168.0   9.0  ...  0.0  0.0  0.0  0.0  0.0  0.0  0.0  0.0  0.0  0.0  \n",
       "e   29357.0   1.0  ...  0.0  0.0  0.0  0.0  0.0  0.0  0.0  0.0  0.0  0.0  \n",
       "a    6042.0   8.0  ...  0.0  0.0  0.0  0.0  0.0  2.0  0.0  0.0  0.0  0.0  \n",
       "o   17122.0  10.0  ...  0.0  0.0  0.0  0.0  0.0  0.0  0.0  0.0  0.0  0.0  \n",
       "u    7401.0   0.0  ...  0.0  0.0  0.0  0.0  0.0  0.0  0.0  0.0  0.0  0.0  \n",
       "..      ...   ...  ...  ...  ...  ...  ...  ...  ...  ...  ...  ...  ...  \n",
       "X       0.0   0.0  ...  0.0  0.0  0.0  0.0  0.0  0.0  0.0  0.0  0.0  0.0  \n",
       ":       0.0   0.0  ...  0.0  0.0  0.0  0.0  0.0  0.0  0.0  0.0  0.0  0.0  \n",
       ",       0.0   0.0  ...  0.0  0.0  0.0  0.0  0.0  0.0  0.0  0.0  0.0  0.0  \n",
       "/       0.0   0.0  ...  0.0  0.0  0.0  0.0  0.0  0.0  0.0  0.0  0.0  0.0  \n",
       "`       0.0   0.0  ...  0.0  0.0  0.0  0.0  0.0  0.0  0.0  0.0  0.0  0.0  \n",
       "\n",
       "[71 rows x 98 columns]"
      ]
     },
     "execution_count": 49,
     "metadata": {},
     "output_type": "execute_result"
    }
   ],
   "source": [
    "df"
   ]
  },
  {
   "cell_type": "markdown",
   "id": "c7d69ed8",
   "metadata": {},
   "source": [
    "## Markov generation process"
   ]
  },
  {
   "cell_type": "code",
   "execution_count": null,
   "id": "8cc48848",
   "metadata": {},
   "outputs": [],
   "source": []
  }
 ],
 "metadata": {
  "kernelspec": {
   "display_name": "Python 3 (ipykernel)",
   "language": "python",
   "name": "python3"
  },
  "language_info": {
   "codemirror_mode": {
    "name": "ipython",
    "version": 3
   },
   "file_extension": ".py",
   "mimetype": "text/x-python",
   "name": "python",
   "nbconvert_exporter": "python",
   "pygments_lexer": "ipython3",
   "version": "3.8.8"
  },
  "toc": {
   "base_numbering": 1,
   "nav_menu": {},
   "number_sections": true,
   "sideBar": true,
   "skip_h1_title": false,
   "title_cell": "Table of Contents",
   "title_sidebar": "Contents",
   "toc_cell": false,
   "toc_position": {},
   "toc_section_display": true,
   "toc_window_display": false
  }
 },
 "nbformat": 4,
 "nbformat_minor": 5
}
