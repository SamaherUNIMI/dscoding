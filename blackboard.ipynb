{
 "cells": [
  {
   "cell_type": "markdown",
   "id": "8b3443a4",
   "metadata": {},
   "source": [
    "# Empty space for exploratory coding"
   ]
  },
  {
   "cell_type": "markdown",
   "id": "95894d45",
   "metadata": {},
   "source": [
    "## Explore word generation\n",
    "- alphabet\n",
    "- sampling method\n",
    "- collectior of output\n",
    "- iteration\n",
    "- stop condition (stopping chars)"
   ]
  },
  {
   "cell_type": "code",
   "execution_count": 25,
   "id": "afe1f909",
   "metadata": {},
   "outputs": [],
   "source": [
    "import string\n",
    "import numpy as np\n",
    "from collections import defaultdict"
   ]
  },
  {
   "cell_type": "code",
   "execution_count": 43,
   "id": "4b134767",
   "metadata": {},
   "outputs": [],
   "source": [
    "def dummygen(alphabet, stops, mxn=1000):\n",
    "    output = []\n",
    "    for it in range(mxn):\n",
    "        k = np.random.choice(alphabet)\n",
    "        output.append(k)\n",
    "        if k in stops:\n",
    "            break\n",
    "    return output"
   ]
  },
  {
   "cell_type": "code",
   "execution_count": 45,
   "id": "4be26e1a",
   "metadata": {},
   "outputs": [],
   "source": [
    "alphabet = list(string.ascii_lowercase + string.punctuation + \" \")\n",
    "stops = alphabet[len(string.ascii_lowercase):]\n",
    "collector = []\n",
    "for x in range(1000):\n",
    "    collector.append(\"\".join(dummygen(alphabet, stops)))"
   ]
  },
  {
   "cell_type": "code",
   "execution_count": 46,
   "id": "1a39a9af",
   "metadata": {},
   "outputs": [
    {
     "data": {
      "text/plain": [
       "1.768"
      ]
     },
     "execution_count": 46,
     "metadata": {},
     "output_type": "execute_result"
    }
   ],
   "source": [
    "np.array([len(x) for x in collector]).mean()"
   ]
  },
  {
   "cell_type": "code",
   "execution_count": 47,
   "id": "58bc4423",
   "metadata": {},
   "outputs": [
    {
     "data": {
      "text/plain": [
       "['iyc,', 'twj ', '@', '!', '/', 't_', 'oktyid;', 'r]', 'xvjo%', ':']"
      ]
     },
     "execution_count": 47,
     "metadata": {},
     "output_type": "execute_result"
    }
   ],
   "source": [
    "collector[:10]"
   ]
  },
  {
   "cell_type": "code",
   "execution_count": 52,
   "id": "1d605031",
   "metadata": {},
   "outputs": [],
   "source": [
    "alphabet = list(string.ascii_lowercase + \".\" + \" \")\n",
    "stops = [' ', '.']\n",
    "collector2 = []\n",
    "for x in range(1000):\n",
    "    collector2.append(\"\".join(dummygen(alphabet, stops)))"
   ]
  },
  {
   "cell_type": "code",
   "execution_count": 53,
   "id": "fb04e78b",
   "metadata": {},
   "outputs": [
    {
     "data": {
      "text/plain": [
       "13.905"
      ]
     },
     "execution_count": 53,
     "metadata": {},
     "output_type": "execute_result"
    }
   ],
   "source": [
    "np.array([len(x) for x in collector2]).mean()"
   ]
  },
  {
   "cell_type": "code",
   "execution_count": 54,
   "id": "89500d5f",
   "metadata": {},
   "outputs": [
    {
     "data": {
      "text/plain": [
       "['eyyt.',\n",
       " 'sxxtessjvtscxwvkdas ',\n",
       " 'swmzfnnnsjmjankyfalppfwjhglfbzdznllfw.',\n",
       " '.',\n",
       " 'gw ',\n",
       " 'gvlmqsnp ',\n",
       " 'swzhdtnfhwwmmkrlpqfrbki.',\n",
       " 'xwmxf ',\n",
       " 'zlaighbdvoklqskjyxeocprcqgdx.',\n",
       " 'uqbf.']"
      ]
     },
     "execution_count": 54,
     "metadata": {},
     "output_type": "execute_result"
    }
   ],
   "source": [
    "collector2[:10]"
   ]
  },
  {
   "cell_type": "code",
   "execution_count": 33,
   "id": "ae251c98",
   "metadata": {},
   "outputs": [],
   "source": [
    "i = defaultdict(lambda: 0)\n",
    "for e in range(10000):\n",
    "    k = np.random.choice(['h', 'c', 's', 'd'], p=[0.7, 0.1, 0.15, 0.05 ])\n",
    "    i[k] = i[k] + 1"
   ]
  },
  {
   "cell_type": "code",
   "execution_count": 34,
   "id": "b0407604",
   "metadata": {},
   "outputs": [
    {
     "data": {
      "text/plain": [
       "array([0.704 , 0.0983, 0.1477, 0.05  ])"
      ]
     },
     "execution_count": 34,
     "metadata": {},
     "output_type": "execute_result"
    }
   ],
   "source": [
    "np.array(list(i.values())) / sum(list(i.values()))"
   ]
  },
  {
   "cell_type": "code",
   "execution_count": null,
   "id": "e2d7d6f2",
   "metadata": {},
   "outputs": [],
   "source": []
  }
 ],
 "metadata": {
  "kernelspec": {
   "display_name": "Python 3 (ipykernel)",
   "language": "python",
   "name": "python3"
  },
  "language_info": {
   "codemirror_mode": {
    "name": "ipython",
    "version": 3
   },
   "file_extension": ".py",
   "mimetype": "text/x-python",
   "name": "python",
   "nbconvert_exporter": "python",
   "pygments_lexer": "ipython3",
   "version": "3.8.8"
  },
  "toc": {
   "base_numbering": 1,
   "nav_menu": {},
   "number_sections": true,
   "sideBar": true,
   "skip_h1_title": false,
   "title_cell": "Table of Contents",
   "title_sidebar": "Contents",
   "toc_cell": false,
   "toc_position": {},
   "toc_section_display": true,
   "toc_window_display": false
  }
 },
 "nbformat": 4,
 "nbformat_minor": 5
}
