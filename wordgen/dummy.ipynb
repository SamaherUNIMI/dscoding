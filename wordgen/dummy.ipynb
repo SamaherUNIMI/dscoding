{
 "cells": [
  {
   "cell_type": "markdown",
   "id": "1ff9674a",
   "metadata": {},
   "source": [
    "# Dummy word generator with estimated probability distribution over the alphabet\n",
    "- corpus\n",
    "- count char frequency\n",
    "- index"
   ]
  },
  {
   "cell_type": "code",
   "execution_count": 1,
   "id": "cd8b1d7c",
   "metadata": {},
   "outputs": [],
   "source": [
    "import pandas as pd\n",
    "import numpy as np\n",
    "from tqdm.notebook import tqdm"
   ]
  },
  {
   "cell_type": "code",
   "execution_count": 2,
   "id": "505f38de",
   "metadata": {},
   "outputs": [],
   "source": [
    "import string\n",
    "from models import DummyWordGenerator"
   ]
  },
  {
   "cell_type": "code",
   "execution_count": 3,
   "id": "21433463",
   "metadata": {},
   "outputs": [],
   "source": [
    "dummy_gen = DummyWordGenerator(alphabet=string.ascii_lowercase, special_chars=\" .\")"
   ]
  },
  {
   "cell_type": "code",
   "execution_count": 4,
   "id": "02e3ba75",
   "metadata": {},
   "outputs": [
    {
     "data": {
      "text/plain": [
       "['s', 't', 'v', 'l', 's', 'j', 'm', 'j', 'w', 'm', 'h', 'c', 'a']"
      ]
     },
     "execution_count": 4,
     "metadata": {},
     "output_type": "execute_result"
    }
   ],
   "source": [
    "dummy_gen.generate"
   ]
  },
  {
   "cell_type": "code",
   "execution_count": 5,
   "id": "da6645c6",
   "metadata": {},
   "outputs": [],
   "source": [
    "vowels = {'a', 'e', 'i', 'o', 'u'}\n",
    "p = [5 if x in vowels else 1 for x in string.ascii_lowercase + \" .\"]\n",
    "p_gen = DummyWordGenerator(\n",
    "    alphabet=string.ascii_lowercase, \n",
    "    special_chars=\" .\", p=p)"
   ]
  },
  {
   "cell_type": "code",
   "execution_count": 6,
   "id": "3d529b67",
   "metadata": {},
   "outputs": [
    {
     "data": {
      "text/plain": [
       "['u', 'o', 'e']"
      ]
     },
     "execution_count": 6,
     "metadata": {},
     "output_type": "execute_result"
    }
   ],
   "source": [
    "p_gen.generate"
   ]
  },
  {
   "cell_type": "markdown",
   "id": "b2796ad9",
   "metadata": {},
   "source": [
    "## Massive generation of words"
   ]
  },
  {
   "cell_type": "code",
   "execution_count": 7,
   "id": "667bc18a",
   "metadata": {},
   "outputs": [],
   "source": [
    "size = 10000\n",
    "dummy_list = [x for x in dummy_gen.words(size)]\n",
    "p_list = [x for x in p_gen.words(size)]"
   ]
  },
  {
   "cell_type": "markdown",
   "id": "14d43e85",
   "metadata": {},
   "source": [
    "**Q1 how can we evaluate the quality of the generator?**"
   ]
  },
  {
   "cell_type": "code",
   "execution_count": null,
   "id": "7cd02b3a",
   "metadata": {},
   "outputs": [],
   "source": []
  },
  {
   "cell_type": "markdown",
   "id": "fba42021",
   "metadata": {},
   "source": [
    "**Q2 how to compute p is a more reliable way?**"
   ]
  },
  {
   "cell_type": "code",
   "execution_count": null,
   "id": "85c02c6b",
   "metadata": {},
   "outputs": [],
   "source": []
  },
  {
   "cell_type": "markdown",
   "id": "cbd2401c",
   "metadata": {},
   "source": [
    "**Q3 how can we take into account the sequence of chars in real words?**"
   ]
  },
  {
   "cell_type": "code",
   "execution_count": null,
   "id": "dd20d6ad",
   "metadata": {},
   "outputs": [],
   "source": []
  }
 ],
 "metadata": {
  "kernelspec": {
   "display_name": "Python 3 (ipykernel)",
   "language": "python",
   "name": "python3"
  },
  "language_info": {
   "codemirror_mode": {
    "name": "ipython",
    "version": 3
   },
   "file_extension": ".py",
   "mimetype": "text/x-python",
   "name": "python",
   "nbconvert_exporter": "python",
   "pygments_lexer": "ipython3",
   "version": "3.8.8"
  },
  "toc": {
   "base_numbering": 1,
   "nav_menu": {},
   "number_sections": true,
   "sideBar": true,
   "skip_h1_title": false,
   "title_cell": "Table of Contents",
   "title_sidebar": "Contents",
   "toc_cell": false,
   "toc_position": {},
   "toc_section_display": true,
   "toc_window_display": false
  }
 },
 "nbformat": 4,
 "nbformat_minor": 5
}
