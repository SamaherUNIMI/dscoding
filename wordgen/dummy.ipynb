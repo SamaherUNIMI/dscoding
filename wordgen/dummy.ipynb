{
 "cells": [
  {
   "cell_type": "markdown",
   "id": "1ff9674a",
   "metadata": {},
   "source": [
    "# Dummy word generator with estimated probability distribution over the alphabet\n",
    "- corpus\n",
    "- count char frequency\n",
    "- index"
   ]
  },
  {
   "cell_type": "code",
   "execution_count": 1,
   "id": "cd8b1d7c",
   "metadata": {},
   "outputs": [],
   "source": [
    "import pandas as pd\n",
    "import numpy as np\n",
    "from tqdm.notebook import tqdm"
   ]
  },
  {
   "cell_type": "code",
   "execution_count": 2,
   "id": "505f38de",
   "metadata": {},
   "outputs": [],
   "source": [
    "import string\n",
    "from models import DummyWordGenerator"
   ]
  },
  {
   "cell_type": "code",
   "execution_count": 3,
   "id": "21433463",
   "metadata": {},
   "outputs": [],
   "source": [
    "dummy_gen = DummyWordGenerator(alphabet=string.ascii_lowercase, special_chars=\" .\")"
   ]
  },
  {
   "cell_type": "code",
   "execution_count": 4,
   "id": "02e3ba75",
   "metadata": {},
   "outputs": [
    {
     "data": {
      "text/plain": [
       "['v', 'e', 'e', 'p']"
      ]
     },
     "execution_count": 4,
     "metadata": {},
     "output_type": "execute_result"
    }
   ],
   "source": [
    "dummy_gen.generate"
   ]
  },
  {
   "cell_type": "code",
   "execution_count": 5,
   "id": "da6645c6",
   "metadata": {},
   "outputs": [],
   "source": [
    "vowels = {'a', 'e', 'i', 'o', 'u'}\n",
    "p = [5 if x in vowels else 1 for x in string.ascii_lowercase + \" .\"]\n",
    "p_gen = DummyWordGenerator(\n",
    "    alphabet=string.ascii_lowercase, \n",
    "    special_chars=\" .\", p=p)"
   ]
  },
  {
   "cell_type": "code",
   "execution_count": 6,
   "id": "3d529b67",
   "metadata": {},
   "outputs": [
    {
     "data": {
      "text/plain": [
       "['a', 'e', 'm', 'm', 'e']"
      ]
     },
     "execution_count": 6,
     "metadata": {},
     "output_type": "execute_result"
    }
   ],
   "source": [
    "p_gen.generate[:5]"
   ]
  },
  {
   "cell_type": "markdown",
   "id": "b2796ad9",
   "metadata": {},
   "source": [
    "## Massive generation of words"
   ]
  },
  {
   "cell_type": "code",
   "execution_count": 7,
   "id": "667bc18a",
   "metadata": {},
   "outputs": [],
   "source": [
    "size = 1000\n",
    "dummy_list = [x for x in dummy_gen.words(size)]\n",
    "p_list = [x for x in p_gen.words(size)]"
   ]
  },
  {
   "cell_type": "code",
   "execution_count": 8,
   "id": "8125f844",
   "metadata": {},
   "outputs": [
    {
     "data": {
      "text/plain": [
       "['hvupfjhjfg', 'cxefbpnzcrrtnfa', 'rfkpc', 'bdrdhvrydwggdit', 'ahwz']"
      ]
     },
     "execution_count": 8,
     "metadata": {},
     "output_type": "execute_result"
    }
   ],
   "source": [
    "dummy_list[:5]"
   ]
  },
  {
   "cell_type": "code",
   "execution_count": 9,
   "id": "a2fa9cbe",
   "metadata": {},
   "outputs": [
    {
     "data": {
      "text/plain": [
       "['t', '', 'xiljyyiaacoaey', 'zfvrm', 'ooaioifcafteoaatauirupzpl']"
      ]
     },
     "execution_count": 9,
     "metadata": {},
     "output_type": "execute_result"
    }
   ],
   "source": [
    "p_list[:5]"
   ]
  },
  {
   "cell_type": "markdown",
   "id": "14d43e85",
   "metadata": {},
   "source": [
    "**Q1 how can we evaluate the quality of the generator?**"
   ]
  },
  {
   "cell_type": "code",
   "execution_count": 10,
   "id": "f0b9f0e4",
   "metadata": {},
   "outputs": [],
   "source": [
    "from index import WordIndex"
   ]
  },
  {
   "cell_type": "code",
   "execution_count": 11,
   "id": "7cd02b3a",
   "metadata": {},
   "outputs": [],
   "source": [
    "local_file = '/Users/flint/Data/daily-dialogue/EMNLP_dataset/dialogues_text.txt'\n",
    "with open(local_file, 'r') as infile:\n",
    "    raw = infile.read()\n",
    "sentences = [x.strip() for x in raw.split('__eou__')]"
   ]
  },
  {
   "cell_type": "code",
   "execution_count": 12,
   "id": "d3db3233",
   "metadata": {},
   "outputs": [],
   "source": [
    "W = WordIndex(sentences)"
   ]
  },
  {
   "cell_type": "code",
   "execution_count": 13,
   "id": "ea9e212a",
   "metadata": {},
   "outputs": [],
   "source": [
    "correct_dummy = [w for w in dummy_list if len(w) > 1 and w in W.index]\n",
    "correct_p = [w for w in p_list if len(w) > 1 and w in W.index]"
   ]
  },
  {
   "cell_type": "code",
   "execution_count": 14,
   "id": "56dcd1a0",
   "metadata": {},
   "outputs": [
    {
     "data": {
      "text/plain": [
       "(0.011, 0.01)"
      ]
     },
     "execution_count": 14,
     "metadata": {},
     "output_type": "execute_result"
    }
   ],
   "source": [
    "len(correct_dummy) / len(dummy_list), len(correct_p) / len(p_list)"
   ]
  },
  {
   "cell_type": "code",
   "execution_count": 15,
   "id": "da8e8f85",
   "metadata": {},
   "outputs": [
    {
     "data": {
      "text/plain": [
       "['up', 'we', 'on', 'far', 'ti']"
      ]
     },
     "execution_count": 15,
     "metadata": {},
     "output_type": "execute_result"
    }
   ],
   "source": [
    "correct_dummy[:5]"
   ]
  },
  {
   "cell_type": "markdown",
   "id": "fba42021",
   "metadata": {},
   "source": [
    "**Q2 how to compute p is a more reliable way?**"
   ]
  },
  {
   "cell_type": "code",
   "execution_count": 16,
   "id": "dc0bb27b",
   "metadata": {},
   "outputs": [],
   "source": [
    "from collections import defaultdict"
   ]
  },
  {
   "cell_type": "markdown",
   "id": "fe978918",
   "metadata": {},
   "source": [
    "$p(c) = \\frac{count(c)}{\\sum\\limits_{i \\in W} count(c_i)}$"
   ]
  },
  {
   "cell_type": "code",
   "execution_count": 26,
   "id": "cf7b99da",
   "metadata": {},
   "outputs": [],
   "source": [
    "from index import UnigramIndex, WordIndex"
   ]
  },
  {
   "cell_type": "code",
   "execution_count": 36,
   "id": "61539357",
   "metadata": {},
   "outputs": [],
   "source": [
    "U = UnigramIndex.from_word_index(W, lower_case=True)\n",
    "p_corpus = [U[c] for c in string.ascii_lowercase + \" .\"]"
   ]
  },
  {
   "cell_type": "code",
   "execution_count": 37,
   "id": "f601fe9c",
   "metadata": {},
   "outputs": [],
   "source": [
    "corpus_gen = DummyWordGenerator(\n",
    "    alphabet=string.ascii_lowercase, special_chars=\" .\", p=p_corpus)"
   ]
  },
  {
   "cell_type": "code",
   "execution_count": 38,
   "id": "65863e1f",
   "metadata": {},
   "outputs": [],
   "source": [
    "corpus_list = [x for x in corpus_gen.words(size)]"
   ]
  },
  {
   "cell_type": "code",
   "execution_count": 39,
   "id": "70327a52",
   "metadata": {},
   "outputs": [],
   "source": [
    "correct_p = [w for w in corpus_list if len(w) > 1 and w in W.index]"
   ]
  },
  {
   "cell_type": "code",
   "execution_count": 40,
   "id": "02cf7d01",
   "metadata": {},
   "outputs": [
    {
     "data": {
      "text/plain": [
       "0.015"
      ]
     },
     "execution_count": 40,
     "metadata": {},
     "output_type": "execute_result"
    }
   ],
   "source": [
    "len(correct_p) / len(corpus_list)"
   ]
  },
  {
   "cell_type": "code",
   "execution_count": 41,
   "id": "accf59b4",
   "metadata": {},
   "outputs": [
    {
     "data": {
      "text/plain": [
       "['to', 'lo', 'la', 'en', 'is']"
      ]
     },
     "execution_count": 41,
     "metadata": {},
     "output_type": "execute_result"
    }
   ],
   "source": [
    "correct_p[:5]"
   ]
  },
  {
   "cell_type": "code",
   "execution_count": 92,
   "id": "dd20d6ad",
   "metadata": {},
   "outputs": [],
   "source": [
    "def index_word(word, index):\n",
    "    for j, c in enumerate(word):\n",
    "        if j == 0:\n",
    "            s = '#s'\n",
    "        else:\n",
    "            s = word[j-1]\n",
    "        index[s][c] += 1"
   ]
  },
  {
   "cell_type": "code",
   "execution_count": 93,
   "id": "a31082ff",
   "metadata": {},
   "outputs": [],
   "source": [
    "i = defaultdict(lambda: defaultdict(lambda: 0))\n",
    "index_word('thing', index=i)\n",
    "index_word('think', index=i)\n",
    "index_word('the', index=i)"
   ]
  },
  {
   "cell_type": "code",
   "execution_count": 95,
   "id": "833a3eb9",
   "metadata": {},
   "outputs": [
    {
     "name": "stdout",
     "output_type": "stream",
     "text": [
      "#s\n",
      "\t t 3\n",
      "t\n",
      "\t h 3\n",
      "h\n",
      "\t i 2\n",
      "\t e 1\n",
      "i\n",
      "\t n 2\n",
      "n\n",
      "\t g 1\n",
      "\t k 1\n"
     ]
    }
   ],
   "source": [
    "for k, v in i.items():\n",
    "    print(k)\n",
    "    for x, y in v.items():\n",
    "        print('\\t', x, y)"
   ]
  },
  {
   "cell_type": "code",
   "execution_count": 82,
   "id": "c9e214f1",
   "metadata": {},
   "outputs": [
    {
     "name": "stdout",
     "output_type": "stream",
     "text": [
      "i 2\n",
      "e 1\n"
     ]
    }
   ],
   "source": [
    "for k, v in i['th'].items():\n",
    "    print(k, v)"
   ]
  },
  {
   "cell_type": "code",
   "execution_count": 89,
   "id": "90e2f33c",
   "metadata": {},
   "outputs": [],
   "source": [
    "def count(idx, s, last_char=None):\n",
    "    if last_char is not None:\n",
    "        return idx[s][c]\n",
    "    else:\n",
    "        continuations = idx[s]\n",
    "        return sum(continuations.values())"
   ]
  },
  {
   "cell_type": "code",
   "execution_count": 90,
   "id": "0a94c67c",
   "metadata": {},
   "outputs": [
    {
     "data": {
      "text/plain": [
       "3"
      ]
     },
     "execution_count": 90,
     "metadata": {},
     "output_type": "execute_result"
    }
   ],
   "source": [
    "count(i, 'th', last_char=None)"
   ]
  },
  {
   "cell_type": "code",
   "execution_count": 96,
   "id": "abcf0f9c",
   "metadata": {},
   "outputs": [
    {
     "data": {
      "text/plain": [
       "0.0"
      ]
     },
     "execution_count": 96,
     "metadata": {},
     "output_type": "execute_result"
    }
   ],
   "source": [
    "count(i, 'h', last_char='e') / count(i, 'h', last_char=None)"
   ]
  },
  {
   "cell_type": "code",
   "execution_count": 88,
   "id": "f6631dc6",
   "metadata": {},
   "outputs": [
    {
     "data": {
      "text/plain": [
       "1"
      ]
     },
     "execution_count": 88,
     "metadata": {},
     "output_type": "execute_result"
    }
   ],
   "source": [
    "i['thin']['g']"
   ]
  },
  {
   "cell_type": "markdown",
   "id": "cbd2401c",
   "metadata": {},
   "source": [
    "**Q3 how can we take into account the sequence of chars in real words?**\n",
    "\n",
    "$p(c) = \\frac{count(c)}{\\sum\\limits_{i \\in A}count(c_i)}$\n",
    "\n",
    "$$\n",
    "p(c_i \\mid c_1, c_2, \\dots, c_{i-1}) = \\frac{count(c_1, c_2, \\dots, c_{i-1}, c_i)}{count(c_1, c_2, \\dots, c_{i-1})}\n",
    "$$\n",
    "\n",
    "$$\n",
    "p(c_i \\mid c_{i-k}, \\dots, c_{i-1}) = \\frac{count(c_{i-k}, \\dots, c_{i-1}, c_i)}{count(c_{i-k}, \\dots, c_{i-1})}\n",
    "$$"
   ]
  },
  {
   "cell_type": "code",
   "execution_count": 64,
   "id": "c11680dc",
   "metadata": {},
   "outputs": [],
   "source": [
    "k = defaultdict(lambda: defaultdict(lambda: 0))"
   ]
  },
  {
   "cell_type": "code",
   "execution_count": 68,
   "id": "847b363e",
   "metadata": {},
   "outputs": [
    {
     "data": {
      "text/plain": [
       "0"
      ]
     },
     "execution_count": 68,
     "metadata": {},
     "output_type": "execute_result"
    }
   ],
   "source": [
    "k['thin']['g']"
   ]
  },
  {
   "cell_type": "code",
   "execution_count": null,
   "id": "0681cec5",
   "metadata": {},
   "outputs": [],
   "source": []
  }
 ],
 "metadata": {
  "kernelspec": {
   "display_name": "Python 3 (ipykernel)",
   "language": "python",
   "name": "python3"
  },
  "language_info": {
   "codemirror_mode": {
    "name": "ipython",
    "version": 3
   },
   "file_extension": ".py",
   "mimetype": "text/x-python",
   "name": "python",
   "nbconvert_exporter": "python",
   "pygments_lexer": "ipython3",
   "version": "3.8.8"
  },
  "toc": {
   "base_numbering": 1,
   "nav_menu": {},
   "number_sections": true,
   "sideBar": true,
   "skip_h1_title": false,
   "title_cell": "Table of Contents",
   "title_sidebar": "Contents",
   "toc_cell": false,
   "toc_position": {},
   "toc_section_display": true,
   "toc_window_display": false
  }
 },
 "nbformat": 4,
 "nbformat_minor": 5
}
