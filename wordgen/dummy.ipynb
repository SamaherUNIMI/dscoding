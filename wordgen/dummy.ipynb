{
 "cells": [
  {
   "cell_type": "markdown",
   "id": "1ff9674a",
   "metadata": {},
   "source": [
    "# Dummy word generator with estimated probability distribution over the alphabet\n",
    "- corpus\n",
    "- count char frequency\n",
    "- index"
   ]
  },
  {
   "cell_type": "code",
   "execution_count": 1,
   "id": "cd8b1d7c",
   "metadata": {},
   "outputs": [],
   "source": [
    "import pandas as pd\n",
    "import numpy as np\n",
    "from tqdm.notebook import tqdm"
   ]
  },
  {
   "cell_type": "code",
   "execution_count": 2,
   "id": "505f38de",
   "metadata": {},
   "outputs": [],
   "source": [
    "import string\n",
    "from models import DummyWordGenerator"
   ]
  },
  {
   "cell_type": "code",
   "execution_count": 3,
   "id": "21433463",
   "metadata": {},
   "outputs": [],
   "source": [
    "dummy_gen = DummyWordGenerator(alphabet=string.ascii_lowercase, special_chars=\" .\")"
   ]
  },
  {
   "cell_type": "code",
   "execution_count": 6,
   "id": "02e3ba75",
   "metadata": {},
   "outputs": [
    {
     "data": {
      "text/plain": [
       "['l', 'i', 'g', 'y', 'q', 'x', 'h', 'm', 'g', 'v']"
      ]
     },
     "execution_count": 6,
     "metadata": {},
     "output_type": "execute_result"
    }
   ],
   "source": [
    "dummy_gen.generate"
   ]
  },
  {
   "cell_type": "code",
   "execution_count": 7,
   "id": "da6645c6",
   "metadata": {},
   "outputs": [],
   "source": [
    "vowels = {'a', 'e', 'i', 'o', 'u'}\n",
    "p = [5 if x in vowels else 1 for x in string.ascii_lowercase + \" .\"]\n",
    "p_gen = DummyWordGenerator(\n",
    "    alphabet=string.ascii_lowercase, \n",
    "    special_chars=\" .\", p=p)"
   ]
  },
  {
   "cell_type": "code",
   "execution_count": 9,
   "id": "3d529b67",
   "metadata": {},
   "outputs": [
    {
     "data": {
      "text/plain": [
       "['r', 's', 'x', 'o', 'z']"
      ]
     },
     "execution_count": 9,
     "metadata": {},
     "output_type": "execute_result"
    }
   ],
   "source": [
    "p_gen.generate[:5]"
   ]
  },
  {
   "cell_type": "markdown",
   "id": "b2796ad9",
   "metadata": {},
   "source": [
    "## Massive generation of words"
   ]
  },
  {
   "cell_type": "code",
   "execution_count": 10,
   "id": "667bc18a",
   "metadata": {},
   "outputs": [],
   "source": [
    "size = 10000\n",
    "dummy_list = [x for x in dummy_gen.words(size)]\n",
    "p_list = [x for x in p_gen.words(size)]"
   ]
  },
  {
   "cell_type": "code",
   "execution_count": 12,
   "id": "98f4c2c5",
   "metadata": {},
   "outputs": [
    {
     "data": {
      "text/plain": [
       "['usbd',\n",
       " 'rjynrhfbffdkustyfqvfbqw',\n",
       " 'tcnfqkn',\n",
       " 'vbzel',\n",
       " 'mjcgaawnkztgwgenayrdfcnsz']"
      ]
     },
     "execution_count": 12,
     "metadata": {},
     "output_type": "execute_result"
    }
   ],
   "source": [
    "dummy_list[:5]"
   ]
  },
  {
   "cell_type": "code",
   "execution_count": 13,
   "id": "d9939d6c",
   "metadata": {},
   "outputs": [
    {
     "data": {
      "text/plain": [
       "['uoq', 'ceeemebuahyuaeojawmkregiuoiugntda', 'pqiooajiie', 'eiuuauu', 'my']"
      ]
     },
     "execution_count": 13,
     "metadata": {},
     "output_type": "execute_result"
    }
   ],
   "source": [
    "p_list[:5]"
   ]
  },
  {
   "cell_type": "markdown",
   "id": "14d43e85",
   "metadata": {},
   "source": [
    "**Q1 how can we evaluate the quality of the generator?**"
   ]
  },
  {
   "cell_type": "code",
   "execution_count": 15,
   "id": "c0b813b6",
   "metadata": {},
   "outputs": [],
   "source": [
    "from index import WordIndex"
   ]
  },
  {
   "cell_type": "code",
   "execution_count": 14,
   "id": "7cd02b3a",
   "metadata": {},
   "outputs": [],
   "source": [
    "local_file = '/Users/flint/Data/daily-dialogue/EMNLP_dataset/dialogues_text.txt'\n",
    "with open(local_file, 'r') as infile:\n",
    "    raw = infile.read()\n",
    "sentences = [x.strip() for x in raw.split('__eou__')]"
   ]
  },
  {
   "cell_type": "code",
   "execution_count": 16,
   "id": "01884602",
   "metadata": {},
   "outputs": [],
   "source": [
    "W = WordIndex(sentences)"
   ]
  },
  {
   "cell_type": "code",
   "execution_count": 22,
   "id": "6e0cd1de",
   "metadata": {},
   "outputs": [],
   "source": [
    "correct_dummy = [w for w in dummy_list if len(w) > 1 and w in W.index]\n",
    "correct_p = [w for w in p_list if len(w) > 1 and w in W.index]"
   ]
  },
  {
   "cell_type": "code",
   "execution_count": 23,
   "id": "014f3282",
   "metadata": {},
   "outputs": [
    {
     "data": {
      "text/plain": [
       "(0.0123, 0.0118)"
      ]
     },
     "execution_count": 23,
     "metadata": {},
     "output_type": "execute_result"
    }
   ],
   "source": [
    "len(correct_dummy) / len(dummy_list), len(correct_p) / len(p_list)"
   ]
  },
  {
   "cell_type": "code",
   "execution_count": 24,
   "id": "3c2e93fd",
   "metadata": {},
   "outputs": [
    {
     "data": {
      "text/plain": [
       "['bo', 'be', 'new', 'bo', 'na']"
      ]
     },
     "execution_count": 24,
     "metadata": {},
     "output_type": "execute_result"
    }
   ],
   "source": [
    "correct_dummy[:5]"
   ]
  },
  {
   "cell_type": "markdown",
   "id": "fba42021",
   "metadata": {},
   "source": [
    "**Q2 how to compute p is a more reliable way?**"
   ]
  },
  {
   "cell_type": "code",
   "execution_count": 27,
   "id": "021a228c",
   "metadata": {},
   "outputs": [],
   "source": [
    "from collections import defaultdict"
   ]
  },
  {
   "cell_type": "markdown",
   "id": "30ce9dc4",
   "metadata": {},
   "source": [
    "$p(c) = \\frac{count(c)}{\\sum\\limits_{i \\in W} count(c_i)}$"
   ]
  },
  {
   "cell_type": "code",
   "execution_count": 36,
   "id": "4bfc26a4",
   "metadata": {},
   "outputs": [],
   "source": [
    "index_chars = defaultdict(lambda: 0)\n",
    "for word, count in W.index.items():\n",
    "    for c in word.lower():\n",
    "        index_chars[c] += count\n",
    "index_chars[' '] = sum(W.index.values())"
   ]
  },
  {
   "cell_type": "code",
   "execution_count": 37,
   "id": "aaa87b10",
   "metadata": {},
   "outputs": [],
   "source": [
    "p_corpus = [index_chars[c] for c in string.ascii_lowercase + \" .\"]"
   ]
  },
  {
   "cell_type": "code",
   "execution_count": 39,
   "id": "8a1c57b8",
   "metadata": {},
   "outputs": [],
   "source": [
    "corpus_gen = DummyWordGenerator(\n",
    "    alphabet=string.ascii_lowercase, special_chars=\" .\", p=p_corpus)"
   ]
  },
  {
   "cell_type": "code",
   "execution_count": 40,
   "id": "2dc48bc3",
   "metadata": {},
   "outputs": [],
   "source": [
    "corpus_list = [x for x in corpus_gen.words(size)]"
   ]
  },
  {
   "cell_type": "code",
   "execution_count": 47,
   "id": "8ec7a6d5",
   "metadata": {},
   "outputs": [],
   "source": [
    "correct_p = [w for w in corpus_list if len(w) > 1 and w in W.index]"
   ]
  },
  {
   "cell_type": "code",
   "execution_count": 48,
   "id": "4d15611d",
   "metadata": {},
   "outputs": [
    {
     "data": {
      "text/plain": [
       "0.0074"
      ]
     },
     "execution_count": 48,
     "metadata": {},
     "output_type": "execute_result"
    }
   ],
   "source": [
    "len(correct_p) / len(corpus_list)"
   ]
  },
  {
   "cell_type": "code",
   "execution_count": 49,
   "id": "93dfd5c4",
   "metadata": {},
   "outputs": [
    {
     "data": {
      "text/plain": [
       "['ant', 'tom', 'tile', 'set', 'non']"
      ]
     },
     "execution_count": 49,
     "metadata": {},
     "output_type": "execute_result"
    }
   ],
   "source": [
    "correct_p[:5]"
   ]
  },
  {
   "cell_type": "markdown",
   "id": "cbd2401c",
   "metadata": {},
   "source": [
    "**Q3 how can we take into account the sequence of chars in real words?**"
   ]
  },
  {
   "cell_type": "code",
   "execution_count": null,
   "id": "dd20d6ad",
   "metadata": {},
   "outputs": [],
   "source": []
  }
 ],
 "metadata": {
  "kernelspec": {
   "display_name": "Python 3 (ipykernel)",
   "language": "python",
   "name": "python3"
  },
  "language_info": {
   "codemirror_mode": {
    "name": "ipython",
    "version": 3
   },
   "file_extension": ".py",
   "mimetype": "text/x-python",
   "name": "python",
   "nbconvert_exporter": "python",
   "pygments_lexer": "ipython3",
   "version": "3.8.8"
  },
  "toc": {
   "base_numbering": 1,
   "nav_menu": {},
   "number_sections": true,
   "sideBar": true,
   "skip_h1_title": false,
   "title_cell": "Table of Contents",
   "title_sidebar": "Contents",
   "toc_cell": false,
   "toc_position": {},
   "toc_section_display": true,
   "toc_window_display": false
  }
 },
 "nbformat": 4,
 "nbformat_minor": 5
}
