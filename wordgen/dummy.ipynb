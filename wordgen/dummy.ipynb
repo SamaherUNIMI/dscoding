{
 "cells": [
  {
   "cell_type": "markdown",
   "id": "1ff9674a",
   "metadata": {},
   "source": [
    "# Dummy word generator with estimated probability distribution over the alphabet\n",
    "- corpus\n",
    "- count char frequency\n",
    "- index"
   ]
  },
  {
   "cell_type": "code",
   "execution_count": 1,
   "id": "cd8b1d7c",
   "metadata": {},
   "outputs": [],
   "source": [
    "import pandas as pd\n",
    "import numpy as np\n",
    "from tqdm.notebook import tqdm"
   ]
  },
  {
   "cell_type": "code",
   "execution_count": 2,
   "id": "505f38de",
   "metadata": {},
   "outputs": [],
   "source": [
    "import string\n",
    "from models import DummyWordGenerator"
   ]
  },
  {
   "cell_type": "code",
   "execution_count": 3,
   "id": "21433463",
   "metadata": {},
   "outputs": [],
   "source": [
    "dummy_gen = DummyWordGenerator(alphabet=string.ascii_lowercase, special_chars=\" .\")"
   ]
  },
  {
   "cell_type": "code",
   "execution_count": 4,
   "id": "02e3ba75",
   "metadata": {},
   "outputs": [
    {
     "data": {
      "text/plain": [
       "['p',\n",
       " 'z',\n",
       " 'b',\n",
       " 'f',\n",
       " 'u',\n",
       " 'r',\n",
       " 'y',\n",
       " 'x',\n",
       " 's',\n",
       " 'c',\n",
       " 'p',\n",
       " 'k',\n",
       " 'q',\n",
       " 'l',\n",
       " 'c',\n",
       " 'm',\n",
       " 'r',\n",
       " 'y',\n",
       " 'h',\n",
       " 'f',\n",
       " 'p',\n",
       " 'r',\n",
       " 'o',\n",
       " 'w',\n",
       " 'c',\n",
       " 'g',\n",
       " 'l',\n",
       " 'g',\n",
       " 'b',\n",
       " 'y',\n",
       " 'x',\n",
       " 's',\n",
       " 'w',\n",
       " 'k',\n",
       " 't',\n",
       " 'o',\n",
       " 'i',\n",
       " 'w',\n",
       " 'r',\n",
       " 'p',\n",
       " 'z',\n",
       " 'l',\n",
       " 'f',\n",
       " 'm',\n",
       " 'i',\n",
       " 'x',\n",
       " 's',\n",
       " 'b',\n",
       " 'p',\n",
       " 'k',\n",
       " 't',\n",
       " 'y',\n",
       " 'z',\n",
       " 'n',\n",
       " 'j',\n",
       " 'k',\n",
       " 'q',\n",
       " 'b',\n",
       " 'z',\n",
       " 'g',\n",
       " 'l',\n",
       " 'x']"
      ]
     },
     "execution_count": 4,
     "metadata": {},
     "output_type": "execute_result"
    }
   ],
   "source": [
    "dummy_gen.generate"
   ]
  },
  {
   "cell_type": "code",
   "execution_count": 5,
   "id": "da6645c6",
   "metadata": {},
   "outputs": [],
   "source": [
    "vowels = {'a', 'e', 'i', 'o', 'u'}\n",
    "p = [5 if x in vowels else 1 for x in string.ascii_lowercase + \" .\"]\n",
    "p_gen = DummyWordGenerator(\n",
    "    alphabet=string.ascii_lowercase, \n",
    "    special_chars=\" .\", p=p)"
   ]
  },
  {
   "cell_type": "code",
   "execution_count": 6,
   "id": "3d529b67",
   "metadata": {},
   "outputs": [
    {
     "data": {
      "text/plain": [
       "['a', 'n', 'u', 'o', 'u']"
      ]
     },
     "execution_count": 6,
     "metadata": {},
     "output_type": "execute_result"
    }
   ],
   "source": [
    "p_gen.generate[:5]"
   ]
  },
  {
   "cell_type": "markdown",
   "id": "b2796ad9",
   "metadata": {},
   "source": [
    "## Massive generation of words"
   ]
  },
  {
   "cell_type": "code",
   "execution_count": 7,
   "id": "667bc18a",
   "metadata": {},
   "outputs": [],
   "source": [
    "size = 1000\n",
    "dummy_list = [x for x in dummy_gen.words(size)]\n",
    "p_list = [x for x in p_gen.words(size)]"
   ]
  },
  {
   "cell_type": "code",
   "execution_count": 8,
   "id": "8125f844",
   "metadata": {},
   "outputs": [
    {
     "data": {
      "text/plain": [
       "['', 'gsvxqyirpbug', 'mhcnkybgtjhshms', 'pidxcbohcpqbe', 'ytlb']"
      ]
     },
     "execution_count": 8,
     "metadata": {},
     "output_type": "execute_result"
    }
   ],
   "source": [
    "dummy_list[:5]"
   ]
  },
  {
   "cell_type": "code",
   "execution_count": 9,
   "id": "a2fa9cbe",
   "metadata": {},
   "outputs": [
    {
     "data": {
      "text/plain": [
       "['neixqhacgevoeimaiqeibisuakijrliwdeevaiq',\n",
       " 'zbjojsvahaourxxooieadipntu',\n",
       " 'utdswooigwkbuuejiwuoixeaezkhomeoe',\n",
       " 'ada',\n",
       " 'eaiueyeoluuxosmkudotkeergaojeoeeqgssriuiekoyueeoueeuzakvsaioaxtoohaeoau']"
      ]
     },
     "execution_count": 9,
     "metadata": {},
     "output_type": "execute_result"
    }
   ],
   "source": [
    "p_list[:5]"
   ]
  },
  {
   "cell_type": "markdown",
   "id": "14d43e85",
   "metadata": {},
   "source": [
    "**Q1 how can we evaluate the quality of the generator?**"
   ]
  },
  {
   "cell_type": "code",
   "execution_count": 10,
   "id": "f0b9f0e4",
   "metadata": {},
   "outputs": [],
   "source": [
    "from index import WordIndex"
   ]
  },
  {
   "cell_type": "code",
   "execution_count": 11,
   "id": "7cd02b3a",
   "metadata": {},
   "outputs": [],
   "source": [
    "local_file = '/Users/flint/Data/daily-dialogue/EMNLP_dataset/dialogues_text.txt'\n",
    "with open(local_file, 'r') as infile:\n",
    "    raw = infile.read()\n",
    "sentences = [x.strip() for x in raw.split('__eou__')]"
   ]
  },
  {
   "cell_type": "code",
   "execution_count": 12,
   "id": "d3db3233",
   "metadata": {},
   "outputs": [],
   "source": [
    "W = WordIndex(sentences)"
   ]
  },
  {
   "cell_type": "code",
   "execution_count": 13,
   "id": "ea9e212a",
   "metadata": {},
   "outputs": [],
   "source": [
    "correct_dummy = [w for w in dummy_list if len(w) > 1 and w in W.index]\n",
    "correct_p = [w for w in p_list if len(w) > 1 and w in W.index]"
   ]
  },
  {
   "cell_type": "code",
   "execution_count": 14,
   "id": "56dcd1a0",
   "metadata": {},
   "outputs": [
    {
     "data": {
      "text/plain": [
       "(0.009, 0.011)"
      ]
     },
     "execution_count": 14,
     "metadata": {},
     "output_type": "execute_result"
    }
   ],
   "source": [
    "len(correct_dummy) / len(dummy_list), len(correct_p) / len(p_list)"
   ]
  },
  {
   "cell_type": "code",
   "execution_count": 15,
   "id": "da8e8f85",
   "metadata": {},
   "outputs": [
    {
     "data": {
      "text/plain": [
       "['vs', 'kg', 'xx', 'pong', 'vol']"
      ]
     },
     "execution_count": 15,
     "metadata": {},
     "output_type": "execute_result"
    }
   ],
   "source": [
    "correct_dummy[:5]"
   ]
  },
  {
   "cell_type": "markdown",
   "id": "fba42021",
   "metadata": {},
   "source": [
    "**Q2 how to compute p is a more reliable way?**"
   ]
  },
  {
   "cell_type": "code",
   "execution_count": 16,
   "id": "dc0bb27b",
   "metadata": {},
   "outputs": [],
   "source": [
    "from collections import defaultdict"
   ]
  },
  {
   "cell_type": "markdown",
   "id": "fe978918",
   "metadata": {},
   "source": [
    "$p(c) = \\frac{count(c)}{\\sum\\limits_{i \\in W} count(c_i)}$"
   ]
  },
  {
   "cell_type": "code",
   "execution_count": 17,
   "id": "cf7b99da",
   "metadata": {},
   "outputs": [],
   "source": [
    "from index import UnigramIndex, WordIndex"
   ]
  },
  {
   "cell_type": "code",
   "execution_count": 18,
   "id": "61539357",
   "metadata": {},
   "outputs": [],
   "source": [
    "U = UnigramIndex.from_word_index(W, lower_case=True)\n",
    "p_corpus = [U[c] for c in string.ascii_lowercase + \" .\"]"
   ]
  },
  {
   "cell_type": "code",
   "execution_count": 19,
   "id": "f601fe9c",
   "metadata": {},
   "outputs": [],
   "source": [
    "corpus_gen = DummyWordGenerator(\n",
    "    alphabet=string.ascii_lowercase, special_chars=\" .\", p=p_corpus)"
   ]
  },
  {
   "cell_type": "code",
   "execution_count": 20,
   "id": "65863e1f",
   "metadata": {},
   "outputs": [],
   "source": [
    "corpus_list = [x for x in corpus_gen.words(size)]"
   ]
  },
  {
   "cell_type": "code",
   "execution_count": 21,
   "id": "70327a52",
   "metadata": {},
   "outputs": [],
   "source": [
    "correct_p = [w for w in corpus_list if len(w) > 1 and w in W.index]"
   ]
  },
  {
   "cell_type": "code",
   "execution_count": 22,
   "id": "02cf7d01",
   "metadata": {},
   "outputs": [
    {
     "data": {
      "text/plain": [
       "0.064"
      ]
     },
     "execution_count": 22,
     "metadata": {},
     "output_type": "execute_result"
    }
   ],
   "source": [
    "len(correct_p) / len(corpus_list)"
   ]
  },
  {
   "cell_type": "code",
   "execution_count": 23,
   "id": "accf59b4",
   "metadata": {},
   "outputs": [
    {
     "data": {
      "text/plain": [
       "['ect', 'en', 'on', 'tor', 'me']"
      ]
     },
     "execution_count": 23,
     "metadata": {},
     "output_type": "execute_result"
    }
   ],
   "source": [
    "correct_p[:5]"
   ]
  },
  {
   "cell_type": "markdown",
   "id": "cbd2401c",
   "metadata": {},
   "source": [
    "**Q3 how can we take into account the sequence of chars in real words?**\n",
    "\n",
    "$p(c) = \\frac{count(c)}{\\sum\\limits_{i \\in A}count(c_i)}$\n",
    "\n",
    "$$\n",
    "p(c_i \\mid c_1, c_2, \\dots, c_{i-1}) = \\frac{count(c_1, c_2, \\dots, c_{i-1}, c_i)}{count(c_1, c_2, \\dots, c_{i-1})}\n",
    "$$\n",
    "\n",
    "$$\n",
    "p(c_i \\mid c_{i-k}, \\dots, c_{i-1}) = \\frac{count(c_{i-k}, \\dots, c_{i-1}, c_i)}{count(c_{i-k}, \\dots, c_{i-1})}\n",
    "$$"
   ]
  },
  {
   "cell_type": "markdown",
   "id": "59ad4fec",
   "metadata": {},
   "source": [
    "### N-Gram indexing"
   ]
  },
  {
   "cell_type": "code",
   "execution_count": 24,
   "id": "c11680dc",
   "metadata": {},
   "outputs": [],
   "source": [
    "from index import BiGramIndex"
   ]
  },
  {
   "cell_type": "code",
   "execution_count": 25,
   "id": "847b363e",
   "metadata": {},
   "outputs": [],
   "source": [
    "b = BiGramIndex.from_word_index(W)"
   ]
  },
  {
   "cell_type": "code",
   "execution_count": 28,
   "id": "0681cec5",
   "metadata": {},
   "outputs": [
    {
     "data": {
      "text/plain": [
       "(385, 12909)"
      ]
     },
     "execution_count": 28,
     "metadata": {},
     "output_type": "execute_result"
    }
   ],
   "source": [
    "# Usage\n",
    "b[('a', 'b')], b.frequency('a')"
   ]
  },
  {
   "cell_type": "markdown",
   "id": "a7f8488e",
   "metadata": {},
   "source": [
    "### Other options for bidimensional (sparse) index"
   ]
  },
  {
   "cell_type": "markdown",
   "id": "1236d042",
   "metadata": {},
   "source": [
    "#### Numpy matrix"
   ]
  },
  {
   "cell_type": "markdown",
   "id": "0dcb05db",
   "metadata": {},
   "source": []
  },
  {
   "cell_type": "markdown",
   "id": "bb2532f1",
   "metadata": {},
   "source": [
    "#### Pandas DataFrame"
   ]
  },
  {
   "cell_type": "code",
   "execution_count": null,
   "id": "de30c617",
   "metadata": {},
   "outputs": [],
   "source": []
  },
  {
   "cell_type": "markdown",
   "id": "c7d69ed8",
   "metadata": {},
   "source": [
    "## Markov generation process"
   ]
  },
  {
   "cell_type": "code",
   "execution_count": null,
   "id": "8cc48848",
   "metadata": {},
   "outputs": [],
   "source": []
  }
 ],
 "metadata": {
  "kernelspec": {
   "display_name": "Python 3 (ipykernel)",
   "language": "python",
   "name": "python3"
  },
  "language_info": {
   "codemirror_mode": {
    "name": "ipython",
    "version": 3
   },
   "file_extension": ".py",
   "mimetype": "text/x-python",
   "name": "python",
   "nbconvert_exporter": "python",
   "pygments_lexer": "ipython3",
   "version": "3.8.8"
  },
  "toc": {
   "base_numbering": 1,
   "nav_menu": {},
   "number_sections": true,
   "sideBar": true,
   "skip_h1_title": false,
   "title_cell": "Table of Contents",
   "title_sidebar": "Contents",
   "toc_cell": false,
   "toc_position": {},
   "toc_section_display": true,
   "toc_window_display": false
  }
 },
 "nbformat": 4,
 "nbformat_minor": 5
}
