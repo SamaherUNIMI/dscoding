{
 "cells": [
  {
   "cell_type": "code",
   "execution_count": null,
   "id": "87a2a840-467c-4c73-a4c6-c746921f7edd",
   "metadata": {},
   "outputs": [],
   "source": [
    "from blackjack.utils import create_deck"
   ]
  },
  {
   "cell_type": "code",
   "execution_count": null,
   "id": "28281114-b7a3-40aa-a4cc-67d593df6f82",
   "metadata": {},
   "outputs": [],
   "source": [
    "deck = create_deck()"
   ]
  },
  {
   "cell_type": "code",
   "execution_count": null,
   "id": "14e89da3-7534-48a4-83f2-3e33ed50c958",
   "metadata": {},
   "outputs": [],
   "source": [
    "for i in range(10):\n",
    "    print(create_deck())"
   ]
  },
  {
   "cell_type": "code",
   "execution_count": 1,
   "id": "d506ad67-5e27-4622-bfa6-1a26984cf478",
   "metadata": {},
   "outputs": [],
   "source": [
    "age = {\n",
    "    'p1': 23,\n",
    "    'p2': 26,\n",
    "    'p3': 34\n",
    "}"
   ]
  },
  {
   "cell_type": "code",
   "execution_count": 40,
   "id": "44eb26cf-bc2b-468e-8bd9-cedcade5fa52",
   "metadata": {},
   "outputs": [],
   "source": [
    "card_value_map = {\n",
    "    'A': 11, 'J': 10, 'Q': 10, 'K': 10\n",
    "}"
   ]
  },
  {
   "cell_type": "code",
   "execution_count": 41,
   "id": "817bfbe2-05ff-4ad4-96c0-5ee00094a80b",
   "metadata": {},
   "outputs": [],
   "source": [
    "def card_value(x):\n",
    "    return card_value_map.get(x, int(x))"
   ]
  },
  {
   "cell_type": "code",
   "execution_count": null,
   "id": "5e7ec5c9-e1df-42f6-b645-31cfcef327a3",
   "metadata": {},
   "outputs": [],
   "source": []
  },
  {
   "cell_type": "code",
   "execution_count": null,
   "id": "25a745d9-34c9-4c6f-b698-50c8189c5630",
   "metadata": {},
   "outputs": [],
   "source": []
  }
 ],
 "metadata": {
  "kernelspec": {
   "display_name": "Python 3 (ipykernel)",
   "language": "python",
   "name": "python3"
  },
  "language_info": {
   "codemirror_mode": {
    "name": "ipython",
    "version": 3
   },
   "file_extension": ".py",
   "mimetype": "text/x-python",
   "name": "python",
   "nbconvert_exporter": "python",
   "pygments_lexer": "ipython3",
   "version": "3.9.17"
  }
 },
 "nbformat": 4,
 "nbformat_minor": 5
}
