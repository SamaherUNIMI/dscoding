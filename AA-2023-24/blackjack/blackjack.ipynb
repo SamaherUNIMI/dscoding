{
 "cells": [
  {
   "cell_type": "markdown",
   "id": "c5afc487",
   "metadata": {},
   "source": [
    "# Blackjack code"
   ]
  },
  {
   "cell_type": "markdown",
   "id": "6549d63d",
   "metadata": {},
   "source": [
    "## Card\n",
    "- surface value (str) e.g., A, 2, 3, ..., Q, K\n",
    "- seed (str) e.g., D, C, H, S\n",
    "- value (int) (depends on the game)"
   ]
  },
  {
   "cell_type": "code",
   "execution_count": 1,
   "id": "5be8ed45",
   "metadata": {},
   "outputs": [],
   "source": [
    "from blackjack.deck import Card, BJCard, Deck"
   ]
  },
  {
   "cell_type": "code",
   "execution_count": 2,
   "id": "279b3f1a",
   "metadata": {},
   "outputs": [],
   "source": [
    "c = Card(surface='A', seed='S')\n",
    "b = BJCard(surface='A', seed='S')"
   ]
  },
  {
   "cell_type": "code",
   "execution_count": 8,
   "id": "9b37c9fb",
   "metadata": {},
   "outputs": [
    {
     "data": {
      "text/plain": [
       "True"
      ]
     },
     "execution_count": 8,
     "metadata": {},
     "output_type": "execute_result"
    }
   ],
   "source": [
    "isinstance(b, Card)"
   ]
  },
  {
   "cell_type": "code",
   "execution_count": null,
   "id": "4aa77d6d",
   "metadata": {},
   "outputs": [],
   "source": [
    "deck = Deck(num=2)"
   ]
  },
  {
   "cell_type": "code",
   "execution_count": null,
   "id": "ebfc3ed8",
   "metadata": {},
   "outputs": [],
   "source": [
    "deck.size"
   ]
  },
  {
   "cell_type": "code",
   "execution_count": null,
   "id": "bf9d8620",
   "metadata": {},
   "outputs": [],
   "source": [
    "deck.shuffle()"
   ]
  },
  {
   "cell_type": "code",
   "execution_count": null,
   "id": "fe8e66ed",
   "metadata": {},
   "outputs": [],
   "source": [
    "hand = deck.deal(4)"
   ]
  },
  {
   "cell_type": "code",
   "execution_count": null,
   "id": "dfdf6576",
   "metadata": {},
   "outputs": [],
   "source": [
    "sum(c.value for c in hand)"
   ]
  },
  {
   "cell_type": "code",
   "execution_count": null,
   "id": "bf36521d",
   "metadata": {},
   "outputs": [],
   "source": []
  }
 ],
 "metadata": {
  "kernelspec": {
   "display_name": "Python 3 (ipykernel)",
   "language": "python",
   "name": "python3"
  },
  "language_info": {
   "codemirror_mode": {
    "name": "ipython",
    "version": 3
   },
   "file_extension": ".py",
   "mimetype": "text/x-python",
   "name": "python",
   "nbconvert_exporter": "python",
   "pygments_lexer": "ipython3",
   "version": "3.8.8"
  },
  "toc": {
   "base_numbering": 1,
   "nav_menu": {},
   "number_sections": true,
   "sideBar": true,
   "skip_h1_title": false,
   "title_cell": "Table of Contents",
   "title_sidebar": "Contents",
   "toc_cell": false,
   "toc_position": {},
   "toc_section_display": true,
   "toc_window_display": false
  }
 },
 "nbformat": 4,
 "nbformat_minor": 5
}
