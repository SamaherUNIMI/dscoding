{
 "cells": [
  {
   "cell_type": "markdown",
   "id": "c5afc487",
   "metadata": {},
   "source": [
    "# Blackjack play"
   ]
  },
  {
   "cell_type": "code",
   "execution_count": 2,
   "id": "bf36521d",
   "metadata": {},
   "outputs": [],
   "source": [
    "from blackjack.game import Table, HumanPlayer, DummyRandomPlayer"
   ]
  },
  {
   "cell_type": "code",
   "execution_count": null,
   "id": "8e34ab78",
   "metadata": {},
   "outputs": [],
   "source": [
    "p1 = HumanPlayer(name=\"AIDANA\", capital=100, bet_rate=10)\n",
    "p2 = HumanPlayer(name=\"DANIELE\", capital=100, bet_rate=5)\n",
    "game = Table()\n",
    "game.add_players([p1, p2])"
   ]
  },
  {
   "cell_type": "code",
   "execution_count": null,
   "id": "3533dfbc",
   "metadata": {},
   "outputs": [],
   "source": [
    "game.receive_bets()"
   ]
  },
  {
   "cell_type": "code",
   "execution_count": null,
   "id": "2cc33f9a",
   "metadata": {},
   "outputs": [],
   "source": [
    "game.serve_players()\n",
    "game.print_player_status(print_dealer=False)"
   ]
  },
  {
   "cell_type": "code",
   "execution_count": null,
   "id": "800df633",
   "metadata": {},
   "outputs": [],
   "source": [
    "game.play()"
   ]
  },
  {
   "cell_type": "code",
   "execution_count": null,
   "id": "32c12849",
   "metadata": {},
   "outputs": [],
   "source": [
    "game.print_player_status()"
   ]
  },
  {
   "cell_type": "code",
   "execution_count": null,
   "id": "8e63e8c1",
   "metadata": {},
   "outputs": [],
   "source": [
    "game.pay()"
   ]
  },
  {
   "cell_type": "code",
   "execution_count": null,
   "id": "aa44899d",
   "metadata": {},
   "outputs": [],
   "source": [
    "game.history"
   ]
  },
  {
   "cell_type": "code",
   "execution_count": null,
   "id": "940ebbfb",
   "metadata": {},
   "outputs": [],
   "source": [
    "game.print_player_status(print_dealer=True)"
   ]
  },
  {
   "cell_type": "markdown",
   "id": "9acddb92",
   "metadata": {},
   "source": [
    "## Automatic play"
   ]
  },
  {
   "cell_type": "code",
   "execution_count": 3,
   "id": "e0cc19e7",
   "metadata": {},
   "outputs": [],
   "source": [
    "game = Table()\n",
    "game.add_players([DummyRandomPlayer(name='Dummy', capital=100, bet_rate=10)])"
   ]
  },
  {
   "cell_type": "code",
   "execution_count": 9,
   "id": "9d46cfe3",
   "metadata": {},
   "outputs": [],
   "source": [
    "for i in range(10000):\n",
    "    game.receive_bets()\n",
    "    game.serve_players()\n",
    "    game.play()\n",
    "    game.pay()"
   ]
  },
  {
   "cell_type": "code",
   "execution_count": 11,
   "id": "59e6432d",
   "metadata": {},
   "outputs": [
    {
     "data": {
      "text/plain": [
       "[-370, -360, -370, -380, -370, -360, -350, -360, -370, -380]"
      ]
     },
     "execution_count": 11,
     "metadata": {},
     "output_type": "execute_result"
    }
   ],
   "source": [
    "game.players[0].history[-10:]"
   ]
  },
  {
   "cell_type": "code",
   "execution_count": 12,
   "id": "98ef9077",
   "metadata": {},
   "outputs": [
    {
     "data": {
      "text/plain": [
       "[470, 460, 470, 480, 470, 460, 450, 460, 470, 480]"
      ]
     },
     "execution_count": 12,
     "metadata": {},
     "output_type": "execute_result"
    }
   ],
   "source": [
    "game.history[-10:]"
   ]
  },
  {
   "cell_type": "code",
   "execution_count": null,
   "id": "8b528a29",
   "metadata": {},
   "outputs": [],
   "source": []
  }
 ],
 "metadata": {
  "kernelspec": {
   "display_name": "Python 3 (ipykernel)",
   "language": "python",
   "name": "python3"
  },
  "language_info": {
   "codemirror_mode": {
    "name": "ipython",
    "version": 3
   },
   "file_extension": ".py",
   "mimetype": "text/x-python",
   "name": "python",
   "nbconvert_exporter": "python",
   "pygments_lexer": "ipython3",
   "version": "3.8.8"
  },
  "toc": {
   "base_numbering": 1,
   "nav_menu": {},
   "number_sections": true,
   "sideBar": true,
   "skip_h1_title": false,
   "title_cell": "Table of Contents",
   "title_sidebar": "Contents",
   "toc_cell": false,
   "toc_position": {},
   "toc_section_display": true,
   "toc_window_display": false
  }
 },
 "nbformat": 4,
 "nbformat_minor": 5
}
