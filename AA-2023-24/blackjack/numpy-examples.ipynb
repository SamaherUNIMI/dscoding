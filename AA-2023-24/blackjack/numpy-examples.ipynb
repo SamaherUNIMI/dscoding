{
 "cells": [
  {
   "cell_type": "code",
   "execution_count": 1,
   "id": "87a2a840-467c-4c73-a4c6-c746921f7edd",
   "metadata": {},
   "outputs": [],
   "source": [
    "from blackjack.utils import create_deck, as_str\n",
    "from blackjack.game import blackjack_card_value\n",
    "from collections import defaultdict\n",
    "import numpy as np"
   ]
  },
  {
   "cell_type": "code",
   "execution_count": 2,
   "id": "28281114-b7a3-40aa-a4cc-67d593df6f82",
   "metadata": {},
   "outputs": [],
   "source": [
    "deck = create_deck()"
   ]
  },
  {
   "cell_type": "code",
   "execution_count": 43,
   "id": "5e7ec5c9-e1df-42f6-b645-31cfcef327a3",
   "metadata": {},
   "outputs": [],
   "source": [
    "a = np.array([1, 2, 3, 4, 5, 6, 7, 8])"
   ]
  },
  {
   "cell_type": "code",
   "execution_count": 77,
   "id": "25a745d9-34c9-4c6f-b698-50c8189c5630",
   "metadata": {},
   "outputs": [],
   "source": [
    "series = np.random.choice(a, size=(3, 6), \n",
    "                 replace=True, \n",
    "                 p=[.2, .1, .1, .3, .1, .1, .1, 0])"
   ]
  },
  {
   "cell_type": "code",
   "execution_count": 88,
   "id": "4abd13cb-9316-4422-8855-76ae453ea299",
   "metadata": {},
   "outputs": [
    {
     "data": {
      "text/plain": [
       "(6, 3)"
      ]
     },
     "execution_count": 88,
     "metadata": {},
     "output_type": "execute_result"
    }
   ],
   "source": [
    "series.T.shape"
   ]
  },
  {
   "cell_type": "code",
   "execution_count": 90,
   "id": "c615bfb6",
   "metadata": {},
   "outputs": [
    {
     "data": {
      "text/plain": [
       "array([4.        , 5.33333333, 3.        , 5.        , 4.66666667,\n",
       "       3.        ])"
      ]
     },
     "execution_count": 90,
     "metadata": {},
     "output_type": "execute_result"
    }
   ],
   "source": [
    "series.T.mean(axis=1)"
   ]
  },
  {
   "cell_type": "code",
   "execution_count": 102,
   "id": "7f67aabf",
   "metadata": {},
   "outputs": [],
   "source": [
    "X = np.random.randint(0, 10, size=(3, 4))"
   ]
  },
  {
   "cell_type": "code",
   "execution_count": 103,
   "id": "6566a632",
   "metadata": {},
   "outputs": [
    {
     "data": {
      "text/plain": [
       "array([[60, 67, 55, 56],\n",
       "       [74, 83, 73, 72],\n",
       "       [51, 41, 43, 56],\n",
       "       [78, 75, 70, 80],\n",
       "       [61, 76, 63, 56],\n",
       "       [39, 32, 42, 48]])"
      ]
     },
     "execution_count": 103,
     "metadata": {},
     "output_type": "execute_result"
    }
   ],
   "source": [
    "series.T.dot(X)"
   ]
  },
  {
   "cell_type": "code",
   "execution_count": 54,
   "id": "1d491770-a899-42cc-9d94-13646eee44e5",
   "metadata": {},
   "outputs": [],
   "source": [
    "m = np.array([\n",
    "    [2, 3, 4],\n",
    "    [5, 6, 6]\n",
    "])"
   ]
  },
  {
   "cell_type": "code",
   "execution_count": 52,
   "id": "9c042c03",
   "metadata": {},
   "outputs": [
    {
     "data": {
      "text/plain": [
       "array([[2, 3, 4],\n",
       "       [5, 6, 9]])"
      ]
     },
     "execution_count": 52,
     "metadata": {},
     "output_type": "execute_result"
    }
   ],
   "source": [
    "m"
   ]
  },
  {
   "cell_type": "code",
   "execution_count": null,
   "id": "a87691f6",
   "metadata": {},
   "outputs": [],
   "source": []
  }
 ],
 "metadata": {
  "kernelspec": {
   "display_name": "Python 3 (ipykernel)",
   "language": "python",
   "name": "python3"
  },
  "language_info": {
   "codemirror_mode": {
    "name": "ipython",
    "version": 3
   },
   "file_extension": ".py",
   "mimetype": "text/x-python",
   "name": "python",
   "nbconvert_exporter": "python",
   "pygments_lexer": "ipython3",
   "version": "3.9.17"
  },
  "toc": {
   "base_numbering": 1,
   "nav_menu": {},
   "number_sections": true,
   "sideBar": true,
   "skip_h1_title": false,
   "title_cell": "Table of Contents",
   "title_sidebar": "Contents",
   "toc_cell": false,
   "toc_position": {},
   "toc_section_display": true,
   "toc_window_display": false
  }
 },
 "nbformat": 4,
 "nbformat_minor": 5
}
